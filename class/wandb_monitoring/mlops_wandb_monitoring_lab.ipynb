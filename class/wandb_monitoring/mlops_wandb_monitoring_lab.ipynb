{
  "cells": [
    {
      "cell_type": "markdown",
      "id": "49872bcb",
      "metadata": {
        "id": "49872bcb"
      },
      "source": [
        "# Model Performance Monitoring with Weights & Biases"
      ]
    },
    {
      "cell_type": "markdown",
      "id": "c5492f30",
      "metadata": {
        "id": "c5492f30"
      },
      "source": [
        "## Prerequisites\n",
        "\n",
        "- Python 3.8+\n",
        "- Google Colab (recommended) or local Jupyter\n",
        "- W&B account and API key (Students: Settings → API Keys)\n",
        "\n",
        "### Files/Resources Provided\n",
        "- This notebook (you are reading it)\n",
        "\n",
        "---\n",
        "Run the cells below in order. Cells that require manual input are clearly indicated.\n"
      ]
    },
    {
      "cell_type": "code",
      "execution_count": 19,
      "id": "83166fe7",
      "metadata": {
        "colab": {
          "base_uri": "https://localhost:8080/"
        },
        "id": "83166fe7",
        "outputId": "d47e8b57-c509-4547-edfd-bb3107cdd37d"
      },
      "outputs": [
        {
          "output_type": "stream",
          "name": "stdout",
          "text": [
            "Install complete.\n"
          ]
        }
      ],
      "source": [
        "# Install required packages. In Colab this will install into the runtime.\n",
        "!pip install --quiet wandb scikit-learn pandas matplotlib\n",
        "\n",
        "print('Install complete.')"
      ]
    },
    {
      "cell_type": "code",
      "execution_count": 20,
      "id": "25d07412",
      "metadata": {
        "colab": {
          "base_uri": "https://localhost:8080/"
        },
        "id": "25d07412",
        "outputId": "87955d1b-1d2f-41ef-c92e-f554df3df95e"
      },
      "outputs": [
        {
          "output_type": "stream",
          "name": "stdout",
          "text": [
            "Python: 3.12.12 (main, Oct 10 2025, 08:52:57) [GCC 11.4.0]\n",
            "scikit-learn: 1.6.1\n",
            "pandas: 2.2.2\n",
            "wandb import ok\n"
          ]
        }
      ],
      "source": [
        "# Imports and quick version check\n",
        "import sys\n",
        "import sklearn\n",
        "import pandas as pd\n",
        "import wandb\n",
        "\n",
        "print('Python:', sys.version.splitlines()[0])\n",
        "print('scikit-learn:', sklearn.__version__)\n",
        "print('pandas:', pd.__version__)\n",
        "print('wandb import ok')"
      ]
    },
    {
      "cell_type": "markdown",
      "id": "f0039aea",
      "metadata": {
        "id": "f0039aea"
      },
      "source": [
        "## Step 1 — Login to Weights & Biases\n",
        "\n",
        "Run the cell below and follow the prompt to authenticate with your W&B API key. In Colab you will be asked to paste the key.\n",
        "\n",
        "**Instructor tip:** For a classroom, you can create a shared team project and provide the `entity` name in `wandb.init()` cells.\n"
      ]
    },
    {
      "cell_type": "code",
      "execution_count": 21,
      "id": "1f964db4",
      "metadata": {
        "colab": {
          "base_uri": "https://localhost:8080/"
        },
        "id": "1f964db4",
        "outputId": "fe009d53-8a0a-47a9-c644-071c145001a1"
      },
      "outputs": [
        {
          "output_type": "stream",
          "name": "stdout",
          "text": [
            "If login succeeded, you will see your W&B username above.\n"
          ]
        }
      ],
      "source": [
        "# Login to W&B (interactive). In Colab this will prompt for your API key.\n",
        "import wandb\n",
        "wandb.login()\n",
        "print('If login succeeded, you will see your W&B username above.')"
      ]
    },
    {
      "cell_type": "markdown",
      "id": "99318fc3",
      "metadata": {
        "id": "99318fc3"
      },
      "source": [
        "## Step 2 — Load data and helper functions\n",
        "\n",
        "This notebook uses the Iris dataset for simplicity. We provide helper functions to train, evaluate, and log runs to W&B.\n"
      ]
    },
    {
      "cell_type": "code",
      "execution_count": 22,
      "id": "e2a58c0c",
      "metadata": {
        "colab": {
          "base_uri": "https://localhost:8080/"
        },
        "id": "e2a58c0c",
        "outputId": "a6e5bd64-1c50-44ae-e541-7ed4dc39ccce"
      },
      "outputs": [
        {
          "output_type": "stream",
          "name": "stdout",
          "text": [
            "Shapes: X_train (105, 4) X_test (45, 4)\n"
          ]
        }
      ],
      "source": [
        "from sklearn.datasets import load_iris\n",
        "from sklearn.model_selection import train_test_split\n",
        "from sklearn.ensemble import RandomForestClassifier\n",
        "from sklearn.metrics import accuracy_score, classification_report, confusion_matrix\n",
        "import numpy as np\n",
        "import pandas as pd\n",
        "\n",
        "# Load dataset\n",
        "data = load_iris()\n",
        "X = data['data']\n",
        "y = data['target']\n",
        "feature_names = data['feature_names']\n",
        "\n",
        "# Train-test split\n",
        "X_train, X_test, y_train, y_test = train_test_split(X, y, test_size=0.3, random_state=42)\n",
        "\n",
        "print('Shapes: X_train', X_train.shape, 'X_test', X_test.shape)"
      ]
    },
    {
      "cell_type": "code",
      "source": [
        "feature_names"
      ],
      "metadata": {
        "colab": {
          "base_uri": "https://localhost:8080/"
        },
        "id": "y9SsKEssJLdi",
        "outputId": "03b9d62d-a77e-4075-cf4a-cefefdda0add"
      },
      "id": "y9SsKEssJLdi",
      "execution_count": 23,
      "outputs": [
        {
          "output_type": "execute_result",
          "data": {
            "text/plain": [
              "['sepal length (cm)',\n",
              " 'sepal width (cm)',\n",
              " 'petal length (cm)',\n",
              " 'petal width (cm)']"
            ]
          },
          "metadata": {},
          "execution_count": 23
        }
      ]
    },
    {
      "cell_type": "markdown",
      "id": "7cf523ba",
      "metadata": {
        "id": "7cf523ba"
      },
      "source": [
        "## Step 3 — Training function: runs & logging\n",
        "\n",
        "The `train_and_log` function trains a RandomForestClassifier, logs metrics, confusion matrix, and the model as an artifact to W&B.\n"
      ]
    },
    {
      "cell_type": "code",
      "execution_count": 24,
      "id": "ae9a2464",
      "metadata": {
        "id": "ae9a2464"
      },
      "outputs": [],
      "source": [
        "import matplotlib.pyplot as plt\n",
        "import io\n",
        "\n",
        "def plot_confusion_matrix(cm, labels):\n",
        "    fig, ax = plt.subplots(figsize=(4,4))\n",
        "    ax.imshow(cm, interpolation='nearest')\n",
        "    ax.set_title('Confusion matrix')\n",
        "    ax.set_xticks(range(len(labels)))\n",
        "    ax.set_yticks(range(len(labels)))\n",
        "    ax.set_xticklabels(labels, rotation=45)\n",
        "    ax.set_yticklabels(labels)\n",
        "    for i in range(len(labels)):\n",
        "        for j in range(len(labels)):\n",
        "            ax.text(j, i, str(cm[i, j]), ha='center', va='center')\n",
        "    plt.tight_layout()\n",
        "    return fig\n",
        "\n",
        "def train_and_log(run_name, n_estimators=50, random_state=42, simulate_shift=False, entity=None, project='mlops-performance-monitoring'):\n",
        "    \"\"\"Train RandomForest and log to W&B.\n",
        "    If simulate_shift=True, a small shift is added to X_test to emulate data drift.\n",
        "    \"\"\"\n",
        "    run = wandb.init(project=project, name=run_name, entity=entity, reinit=True)\n",
        "    wandb.config.update({'n_estimators': n_estimators, 'random_state': random_state})\n",
        "\n",
        "    clf = RandomForestClassifier(n_estimators=n_estimators, random_state=random_state)\n",
        "    clf.fit(X_train, y_train)\n",
        "    if simulate_shift:\n",
        "        X_eval = X_test + np.random.normal(loc=0.5, scale=0.1, size=X_test.shape)\n",
        "    else:\n",
        "        X_eval = X_test\n",
        "    preds = clf.predict(X_eval)\n",
        "    acc = accuracy_score(y_test, preds)\n",
        "    cr = classification_report(y_test, preds, output_dict=True)\n",
        "    cm = confusion_matrix(y_test, preds)\n",
        "\n",
        "    # Log metrics\n",
        "    wandb.log({'accuracy': acc})\n",
        "    # Log classification report as metrics\n",
        "    for k, v in cr.items():\n",
        "        if k.isdigit():\n",
        "            wandb.log({f'class_{k}_precision': v['precision'], f'class_{k}_recall': v['recall'], f'class_{k}_f1': v['f1-score']})\n",
        "\n",
        "    # Confusion matrix image\n",
        "    fig = plot_confusion_matrix(cm, labels=data['target_names'])\n",
        "    wandb.log({\"confusion_matrix\": wandb.Image(fig)})\n",
        "    buf = io.BytesIO()\n",
        "    fig.savefig(buf, format='png')\n",
        "    plt.show()\n",
        "    plt.close(fig)\n",
        "\n",
        "    # Log model as artifact\n",
        "    artifact = wandb.Artifact('rf-model', type='model')\n",
        "    import joblib\n",
        "    joblib.dump(clf, 'rf_model.joblib')\n",
        "    artifact.add_file('rf_model.joblib')\n",
        "    run.log_artifact(artifact)\n",
        "\n",
        "    print(f'Run {run_name} logged. Accuracy = {acc:.4f}')\n",
        "\n",
        "    return acc, run"
      ]
    },
    {
      "cell_type": "markdown",
      "id": "92febe9a",
      "metadata": {
        "id": "92febe9a"
      },
      "source": [
        "## Step 4 — Baseline run\n",
        "\n",
        "Run a baseline training run and observe metrics in your W&B project dashboard.\n"
      ]
    },
    {
      "cell_type": "code",
      "execution_count": 25,
      "id": "d2216d29",
      "metadata": {
        "colab": {
          "base_uri": "https://localhost:8080/",
          "height": 1000
        },
        "id": "d2216d29",
        "outputId": "3da94c78-90f8-46bf-feb7-8b348a3aaf77"
      },
      "outputs": [
        {
          "output_type": "display_data",
          "data": {
            "text/plain": [
              "<IPython.core.display.HTML object>"
            ],
            "text/html": []
          },
          "metadata": {}
        },
        {
          "output_type": "display_data",
          "data": {
            "text/plain": [
              "<IPython.core.display.HTML object>"
            ],
            "text/html": [
              "Tracking run with wandb version 0.22.2"
            ]
          },
          "metadata": {}
        },
        {
          "output_type": "display_data",
          "data": {
            "text/plain": [
              "<IPython.core.display.HTML object>"
            ],
            "text/html": [
              "Run data is saved locally in <code>/content/wandb/run-20251028_052317-dgqitr1y</code>"
            ]
          },
          "metadata": {}
        },
        {
          "output_type": "display_data",
          "data": {
            "text/plain": [
              "<IPython.core.display.HTML object>"
            ],
            "text/html": [
              "Syncing run <strong><a href='https://wandb.ai/ir2023/MLOps%20Monitoring%20142402006/runs/dgqitr1y' target=\"_blank\">baseline-run</a></strong> to <a href='https://wandb.ai/ir2023/MLOps%20Monitoring%20142402006' target=\"_blank\">Weights & Biases</a> (<a href='https://wandb.me/developer-guide' target=\"_blank\">docs</a>)<br>"
            ]
          },
          "metadata": {}
        },
        {
          "output_type": "display_data",
          "data": {
            "text/plain": [
              "<IPython.core.display.HTML object>"
            ],
            "text/html": [
              " View project at <a href='https://wandb.ai/ir2023/MLOps%20Monitoring%20142402006' target=\"_blank\">https://wandb.ai/ir2023/MLOps%20Monitoring%20142402006</a>"
            ]
          },
          "metadata": {}
        },
        {
          "output_type": "display_data",
          "data": {
            "text/plain": [
              "<IPython.core.display.HTML object>"
            ],
            "text/html": [
              " View run at <a href='https://wandb.ai/ir2023/MLOps%20Monitoring%20142402006/runs/dgqitr1y' target=\"_blank\">https://wandb.ai/ir2023/MLOps%20Monitoring%20142402006/runs/dgqitr1y</a>"
            ]
          },
          "metadata": {}
        },
        {
          "output_type": "display_data",
          "data": {
            "text/plain": [
              "<Figure size 400x400 with 1 Axes>"
            ],
            "image/png": "[encoded data removed]"
          },
          "metadata": {}
        },
        {
          "output_type": "stream",
          "name": "stdout",
          "text": [
            "Run baseline-run logged. Accuracy = 1.0000\n"
          ]
        },
        {
          "output_type": "display_data",
          "data": {
            "text/plain": [
              "<IPython.core.display.HTML object>"
            ],
            "text/html": []
          },
          "metadata": {}
        },
        {
          "output_type": "display_data",
          "data": {
            "text/plain": [
              "<IPython.core.display.HTML object>"
            ],
            "text/html": [
              "<br>    <style><br>        .wandb-row {<br>            display: flex;<br>            flex-direction: row;<br>            flex-wrap: wrap;<br>            justify-content: flex-start;<br>            width: 100%;<br>        }<br>        .wandb-col {<br>            display: flex;<br>            flex-direction: column;<br>            flex-basis: 100%;<br>            flex: 1;<br>            padding: 10px;<br>        }<br>    </style><br><div class=\"wandb-row\"><div class=\"wandb-col\"><h3>Run history:</h3><br/><table class=\"wandb\"><tr><td>accuracy</td><td>▁</td></tr><tr><td>class_0_f1</td><td>▁</td></tr><tr><td>class_0_precision</td><td>▁</td></tr><tr><td>class_0_recall</td><td>▁</td></tr><tr><td>class_1_f1</td><td>▁</td></tr><tr><td>class_1_precision</td><td>▁</td></tr><tr><td>class_1_recall</td><td>▁</td></tr><tr><td>class_2_f1</td><td>▁</td></tr><tr><td>class_2_precision</td><td>▁</td></tr><tr><td>class_2_recall</td><td>▁</td></tr></table><br/></div><div class=\"wandb-col\"><h3>Run summary:</h3><br/><table class=\"wandb\"><tr><td>accuracy</td><td>1</td></tr><tr><td>class_0_f1</td><td>1</td></tr><tr><td>class_0_precision</td><td>1</td></tr><tr><td>class_0_recall</td><td>1</td></tr><tr><td>class_1_f1</td><td>1</td></tr><tr><td>class_1_precision</td><td>1</td></tr><tr><td>class_1_recall</td><td>1</td></tr><tr><td>class_2_f1</td><td>1</td></tr><tr><td>class_2_precision</td><td>1</td></tr><tr><td>class_2_recall</td><td>1</td></tr></table><br/></div></div>"
            ]
          },
          "metadata": {}
        },
        {
          "output_type": "display_data",
          "data": {
            "text/plain": [
              "<IPython.core.display.HTML object>"
            ],
            "text/html": [
              " View run <strong style=\"color:#cdcd00\">baseline-run</strong> at: <a href='https://wandb.ai/ir2023/MLOps%20Monitoring%20142402006/runs/dgqitr1y' target=\"_blank\">https://wandb.ai/ir2023/MLOps%20Monitoring%20142402006/runs/dgqitr1y</a><br> View project at: <a href='https://wandb.ai/ir2023/MLOps%20Monitoring%20142402006' target=\"_blank\">https://wandb.ai/ir2023/MLOps%20Monitoring%20142402006</a><br>Synced 5 W&B file(s), 1 media file(s), 0 artifact file(s) and 0 other file(s)"
            ]
          },
          "metadata": {}
        },
        {
          "output_type": "display_data",
          "data": {
            "text/plain": [
              "<IPython.core.display.HTML object>"
            ],
            "text/html": [
              "Find logs at: <code>./wandb/run-20251028_052317-dgqitr1y/logs</code>"
            ]
          },
          "metadata": {}
        },
        {
          "output_type": "execute_result",
          "data": {
            "text/plain": [
              "1.0"
            ]
          },
          "metadata": {},
          "execution_count": 25
        }
      ],
      "source": [
        "# Baseline run\n",
        "baseline_acc,run = train_and_log('baseline-run', n_estimators=50, random_state=42, entity=\"ir2023\", project=\"MLOps Monitoring 142402006\")\n",
        "run.finish()\n",
        "baseline_acc"
      ]
    },
    {
      "cell_type": "markdown",
      "id": "72324be1",
      "metadata": {
        "id": "72324be1"
      },
      "source": [
        "## Step 5 — Simulate drift and run again\n",
        "\n",
        "Now run the same model but simulate a small distribution shift in evaluation data to cause performance degradation. Compare the new run to the baseline in W&B UI.\n"
      ]
    },
    {
      "cell_type": "code",
      "execution_count": 26,
      "id": "2e8416d3",
      "metadata": {
        "colab": {
          "base_uri": "https://localhost:8080/",
          "height": 1000
        },
        "id": "2e8416d3",
        "outputId": "9e7418c9-75f9-4136-dd93-df95a07949b8"
      },
      "outputs": [
        {
          "output_type": "display_data",
          "data": {
            "text/plain": [
              "<IPython.core.display.HTML object>"
            ],
            "text/html": []
          },
          "metadata": {}
        },
        {
          "output_type": "display_data",
          "data": {
            "text/plain": [
              "<IPython.core.display.HTML object>"
            ],
            "text/html": [
              "Tracking run with wandb version 0.22.2"
            ]
          },
          "metadata": {}
        },
        {
          "output_type": "display_data",
          "data": {
            "text/plain": [
              "<IPython.core.display.HTML object>"
            ],
            "text/html": [
              "Run data is saved locally in <code>/content/wandb/run-20251028_052319-yhqizz7r</code>"
            ]
          },
          "metadata": {}
        },
        {
          "output_type": "display_data",
          "data": {
            "text/plain": [
              "<IPython.core.display.HTML object>"
            ],
            "text/html": [
              "Syncing run <strong><a href='https://wandb.ai/ir2023/MLOps%20Monitoring%20142402006/runs/yhqizz7r' target=\"_blank\">drifted-run</a></strong> to <a href='https://wandb.ai/ir2023/MLOps%20Monitoring%20142402006' target=\"_blank\">Weights & Biases</a> (<a href='https://wandb.me/developer-guide' target=\"_blank\">docs</a>)<br>"
            ]
          },
          "metadata": {}
        },
        {
          "output_type": "display_data",
          "data": {
            "text/plain": [
              "<IPython.core.display.HTML object>"
            ],
            "text/html": [
              " View project at <a href='https://wandb.ai/ir2023/MLOps%20Monitoring%20142402006' target=\"_blank\">https://wandb.ai/ir2023/MLOps%20Monitoring%20142402006</a>"
            ]
          },
          "metadata": {}
        },
        {
          "output_type": "display_data",
          "data": {
            "text/plain": [
              "<IPython.core.display.HTML object>"
            ],
            "text/html": [
              " View run at <a href='https://wandb.ai/ir2023/MLOps%20Monitoring%20142402006/runs/yhqizz7r' target=\"_blank\">https://wandb.ai/ir2023/MLOps%20Monitoring%20142402006/runs/yhqizz7r</a>"
            ]
          },
          "metadata": {}
        },
        {
          "output_type": "display_data",
          "data": {
            "text/plain": [
              "<Figure size 400x400 with 1 Axes>"
            ],
            "image/png": "[encoded data removed]"
          },
          "metadata": {}
        },
        {
          "output_type": "stream",
          "name": "stdout",
          "text": [
            "Run drifted-run logged. Accuracy = 0.5778\n"
          ]
        },
        {
          "output_type": "display_data",
          "data": {
            "text/plain": [
              "<IPython.core.display.HTML object>"
            ],
            "text/html": []
          },
          "metadata": {}
        },
        {
          "output_type": "display_data",
          "data": {
            "text/plain": [
              "<IPython.core.display.HTML object>"
            ],
            "text/html": [
              "<br>    <style><br>        .wandb-row {<br>            display: flex;<br>            flex-direction: row;<br>            flex-wrap: wrap;<br>            justify-content: flex-start;<br>            width: 100%;<br>        }<br>        .wandb-col {<br>            display: flex;<br>            flex-direction: column;<br>            flex-basis: 100%;<br>            flex: 1;<br>            padding: 10px;<br>        }<br>    </style><br><div class=\"wandb-row\"><div class=\"wandb-col\"><h3>Run history:</h3><br/><table class=\"wandb\"><tr><td>accuracy</td><td>▁</td></tr><tr><td>class_0_f1</td><td>▁</td></tr><tr><td>class_0_precision</td><td>▁</td></tr><tr><td>class_0_recall</td><td>▁</td></tr><tr><td>class_1_f1</td><td>▁</td></tr><tr><td>class_1_precision</td><td>▁</td></tr><tr><td>class_1_recall</td><td>▁</td></tr><tr><td>class_2_f1</td><td>▁</td></tr><tr><td>class_2_precision</td><td>▁</td></tr><tr><td>class_2_recall</td><td>▁</td></tr></table><br/></div><div class=\"wandb-col\"><h3>Run summary:</h3><br/><table class=\"wandb\"><tr><td>accuracy</td><td>0.57778</td></tr><tr><td>class_0_f1</td><td>0.73333</td></tr><tr><td>class_0_precision</td><td>1</td></tr><tr><td>class_0_recall</td><td>0.57895</td></tr><tr><td>class_1_f1</td><td>0.17391</td></tr><tr><td>class_1_precision</td><td>0.2</td></tr><tr><td>class_1_recall</td><td>0.15385</td></tr><tr><td>class_2_f1</td><td>0.7027</td></tr><tr><td>class_2_precision</td><td>0.54167</td></tr><tr><td>class_2_recall</td><td>1</td></tr></table><br/></div></div>"
            ]
          },
          "metadata": {}
        },
        {
          "output_type": "display_data",
          "data": {
            "text/plain": [
              "<IPython.core.display.HTML object>"
            ],
            "text/html": [
              " View run <strong style=\"color:#cdcd00\">drifted-run</strong> at: <a href='https://wandb.ai/ir2023/MLOps%20Monitoring%20142402006/runs/yhqizz7r' target=\"_blank\">https://wandb.ai/ir2023/MLOps%20Monitoring%20142402006/runs/yhqizz7r</a><br> View project at: <a href='https://wandb.ai/ir2023/MLOps%20Monitoring%20142402006' target=\"_blank\">https://wandb.ai/ir2023/MLOps%20Monitoring%20142402006</a><br>Synced 5 W&B file(s), 1 media file(s), 0 artifact file(s) and 0 other file(s)"
            ]
          },
          "metadata": {}
        },
        {
          "output_type": "display_data",
          "data": {
            "text/plain": [
              "<IPython.core.display.HTML object>"
            ],
            "text/html": [
              "Find logs at: <code>./wandb/run-20251028_052319-yhqizz7r/logs</code>"
            ]
          },
          "metadata": {}
        },
        {
          "output_type": "execute_result",
          "data": {
            "text/plain": [
              "0.5777777777777777"
            ]
          },
          "metadata": {},
          "execution_count": 26
        }
      ],
      "source": [
        "# Drifted run (simulate data shift)\n",
        "drifted_acc,run = train_and_log('drifted-run', n_estimators=50, random_state=99, simulate_shift=True, entity=\"ir2023\", project=\"MLOps Monitoring 142402006\")\n",
        "run.finish()\n",
        "drifted_acc"
      ]
    },
    {
      "cell_type": "markdown",
      "id": "be33e283",
      "metadata": {
        "id": "be33e283"
      },
      "source": [
        "## Step 6 — Simple alerting example\n",
        "\n",
        "W&B supports programmatic alerts. The snippet below demonstrates raising an alert when accuracy drops below a threshold. Alerts show up in the W&B UI (and can be configured to send emails or Slack messages in organization settings).\n"
      ]
    },
    {
      "cell_type": "code",
      "execution_count": 27,
      "id": "c06ac62a",
      "metadata": {
        "colab": {
          "base_uri": "https://localhost:8080/",
          "height": 1000
        },
        "id": "c06ac62a",
        "outputId": "9b16526d-dcf7-4279-db89-86de156a5537"
      },
      "outputs": [
        {
          "output_type": "display_data",
          "data": {
            "text/plain": [
              "<IPython.core.display.HTML object>"
            ],
            "text/html": []
          },
          "metadata": {}
        },
        {
          "output_type": "display_data",
          "data": {
            "text/plain": [
              "<IPython.core.display.HTML object>"
            ],
            "text/html": [
              "Tracking run with wandb version 0.22.2"
            ]
          },
          "metadata": {}
        },
        {
          "output_type": "display_data",
          "data": {
            "text/plain": [
              "<IPython.core.display.HTML object>"
            ],
            "text/html": [
              "Run data is saved locally in <code>/content/wandb/run-20251028_052322-rufv0vma</code>"
            ]
          },
          "metadata": {}
        },
        {
          "output_type": "display_data",
          "data": {
            "text/plain": [
              "<IPython.core.display.HTML object>"
            ],
            "text/html": [
              "Syncing run <strong><a href='https://wandb.ai/ir2023/MLOps%20Monitoring%20142402006/runs/rufv0vma' target=\"_blank\">drifted-run</a></strong> to <a href='https://wandb.ai/ir2023/MLOps%20Monitoring%20142402006' target=\"_blank\">Weights & Biases</a> (<a href='https://wandb.me/developer-guide' target=\"_blank\">docs</a>)<br>"
            ]
          },
          "metadata": {}
        },
        {
          "output_type": "display_data",
          "data": {
            "text/plain": [
              "<IPython.core.display.HTML object>"
            ],
            "text/html": [
              " View project at <a href='https://wandb.ai/ir2023/MLOps%20Monitoring%20142402006' target=\"_blank\">https://wandb.ai/ir2023/MLOps%20Monitoring%20142402006</a>"
            ]
          },
          "metadata": {}
        },
        {
          "output_type": "display_data",
          "data": {
            "text/plain": [
              "<IPython.core.display.HTML object>"
            ],
            "text/html": [
              " View run at <a href='https://wandb.ai/ir2023/MLOps%20Monitoring%20142402006/runs/rufv0vma' target=\"_blank\">https://wandb.ai/ir2023/MLOps%20Monitoring%20142402006/runs/rufv0vma</a>"
            ]
          },
          "metadata": {}
        },
        {
          "output_type": "display_data",
          "data": {
            "text/plain": [
              "<Figure size 400x400 with 1 Axes>"
            ],
            "image/png": "[encoded data removed]"
          },
          "metadata": {}
        },
        {
          "output_type": "stream",
          "name": "stdout",
          "text": [
            "Run drifted-run logged. Accuracy = 0.7556\n",
            "Alert sent (check W&B)\n"
          ]
        },
        {
          "output_type": "display_data",
          "data": {
            "text/plain": [
              "<IPython.core.display.HTML object>"
            ],
            "text/html": []
          },
          "metadata": {}
        },
        {
          "output_type": "display_data",
          "data": {
            "text/plain": [
              "<IPython.core.display.HTML object>"
            ],
            "text/html": [
              "<br>    <style><br>        .wandb-row {<br>            display: flex;<br>            flex-direction: row;<br>            flex-wrap: wrap;<br>            justify-content: flex-start;<br>            width: 100%;<br>        }<br>        .wandb-col {<br>            display: flex;<br>            flex-direction: column;<br>            flex-basis: 100%;<br>            flex: 1;<br>            padding: 10px;<br>        }<br>    </style><br><div class=\"wandb-row\"><div class=\"wandb-col\"><h3>Run history:</h3><br/><table class=\"wandb\"><tr><td>accuracy</td><td>▁</td></tr><tr><td>class_0_f1</td><td>▁</td></tr><tr><td>class_0_precision</td><td>▁</td></tr><tr><td>class_0_recall</td><td>▁</td></tr><tr><td>class_1_f1</td><td>▁</td></tr><tr><td>class_1_precision</td><td>▁</td></tr><tr><td>class_1_recall</td><td>▁</td></tr><tr><td>class_2_f1</td><td>▁</td></tr><tr><td>class_2_precision</td><td>▁</td></tr><tr><td>class_2_recall</td><td>▁</td></tr></table><br/></div><div class=\"wandb-col\"><h3>Run summary:</h3><br/><table class=\"wandb\"><tr><td>accuracy</td><td>0.75556</td></tr><tr><td>class_0_f1</td><td>0.97297</td></tr><tr><td>class_0_precision</td><td>1</td></tr><tr><td>class_0_recall</td><td>0.94737</td></tr><tr><td>class_1_f1</td><td>0.35294</td></tr><tr><td>class_1_precision</td><td>0.75</td></tr><tr><td>class_1_recall</td><td>0.23077</td></tr><tr><td>class_2_f1</td><td>0.72222</td></tr><tr><td>class_2_precision</td><td>0.56522</td></tr><tr><td>class_2_recall</td><td>1</td></tr></table><br/></div></div>"
            ]
          },
          "metadata": {}
        },
        {
          "output_type": "display_data",
          "data": {
            "text/plain": [
              "<IPython.core.display.HTML object>"
            ],
            "text/html": [
              " View run <strong style=\"color:#cdcd00\">drifted-run</strong> at: <a href='https://wandb.ai/ir2023/MLOps%20Monitoring%20142402006/runs/rufv0vma' target=\"_blank\">https://wandb.ai/ir2023/MLOps%20Monitoring%20142402006/runs/rufv0vma</a><br> View project at: <a href='https://wandb.ai/ir2023/MLOps%20Monitoring%20142402006' target=\"_blank\">https://wandb.ai/ir2023/MLOps%20Monitoring%20142402006</a><br>Synced 5 W&B file(s), 1 media file(s), 0 artifact file(s) and 0 other file(s)"
            ]
          },
          "metadata": {}
        },
        {
          "output_type": "display_data",
          "data": {
            "text/plain": [
              "<IPython.core.display.HTML object>"
            ],
            "text/html": [
              "Find logs at: <code>./wandb/run-20251028_052322-rufv0vma/logs</code>"
            ]
          },
          "metadata": {}
        }
      ],
      "source": [
        "# This cell demonstrates programmatic alerting. Replace threshold as appropriate.\n",
        "drifted_acc,run = train_and_log('drifted-run', simulate_shift=True, entity=\"ir2023\", project=\"MLOps Monitoring 142402006\")\n",
        "threshold = 0.85\n",
        "if drifted_acc < threshold:\n",
        "    wandb.alert(title='Low accuracy detected', text=f'Accuracy {drifted_acc:.3f} below threshold {threshold}', level=wandb.AlertLevel.WARN)\n",
        "    print('Alert sent (check W&B)')\n",
        "else:\n",
        "    print('Accuracy OK')\n",
        "\n",
        "run.finish()"
      ]
    },
    {
      "cell_type": "markdown",
      "id": "f8099149",
      "metadata": {
        "id": "f8099149"
      },
      "source": [
        "\n"
      ]
    }
  ],
  "metadata": {
    "accelerator": "GPU",
    "colab": {
      "gpuType": "T4",
      "provenance": []
    },
    "kernelspec": {
      "display_name": "Python 3 (ipykernel)",
      "language": "python",
      "name": "python3"
    },
    "language_info": {
      "codemirror_mode": {
        "name": "ipython",
        "version": 3
      },
      "file_extension": ".py",
      "mimetype": "text/x-python",
      "name": "python",
      "nbconvert_exporter": "python",
      "pygments_lexer": "ipython3",
      "version": "3.9.20"
    }
  },
  "nbformat": 4,
  "nbformat_minor": 5
}